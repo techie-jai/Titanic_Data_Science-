{
  "cells": [
    {
      "metadata": {
        "trusted": true
      },
      "cell_type": "code",
      "source": "import numpy as nm\nimport pandas as pd\nimport os\n    \n# loc will be used ahead. Loc is used to get details of a perticular column by making it the index.\n# example is we have name, age salary, and we write a=df.loc['peter'], this will put age and salary of peter in a with name as index",
      "execution_count": 15,
      "outputs": []
    },
    {
      "metadata": {
        "trusted": true
      },
      "cell_type": "code",
      "source": "train_df=pd.read_csv('train.csv', index_col='PassengerId')\ntest_df= pd.read_csv('test.csv', index_col='PassengerId')\n",
      "execution_count": 6,
      "outputs": []
    },
    {
      "metadata": {
        "trusted": true
      },
      "cell_type": "code",
      "source": "type(train_df)",
      "execution_count": 7,
      "outputs": [
        {
          "output_type": "execute_result",
          "execution_count": 7,
          "data": {
            "text/plain": "pandas.core.frame.DataFrame"
          },
          "metadata": {}
        }
      ]
    },
    {
      "metadata": {
        "trusted": true
      },
      "cell_type": "code",
      "source": "train_df.info()",
      "execution_count": 8,
      "outputs": [
        {
          "output_type": "stream",
          "text": "<class 'pandas.core.frame.DataFrame'>\nInt64Index: 891 entries, 1 to 891\nData columns (total 18 columns):\nSurvived      891 non-null int64\nAge           891 non-null float64\nFare          891 non-null float64\nIsMale        891 non-null int64\nDeck_A        891 non-null int64\nDeck_B        891 non-null int64\nDeck_C        891 non-null int64\nDeck_D        891 non-null int64\nDeck_E        891 non-null int64\nDeck_F        891 non-null int64\nDeck_G        891 non-null int64\nDeck_z        891 non-null int64\nPclass_1      891 non-null int64\nPclass_2      891 non-null int64\nPclass_3      891 non-null int64\nEmbarked_C    891 non-null int64\nEmbarked_Q    891 non-null int64\nEmbarked_S    891 non-null int64\ndtypes: float64(2), int64(16)\nmemory usage: 132.3 KB\n",
          "name": "stdout"
        }
      ]
    },
    {
      "metadata": {
        "trusted": true
      },
      "cell_type": "code",
      "source": "test_df.info()",
      "execution_count": 9,
      "outputs": [
        {
          "output_type": "stream",
          "text": "<class 'pandas.core.frame.DataFrame'>\nInt64Index: 418 entries, 892 to 1309\nData columns (total 17 columns):\nAge           418 non-null float64\nFare          418 non-null float64\nIsMale        418 non-null int64\nDeck_A        418 non-null int64\nDeck_B        418 non-null int64\nDeck_C        418 non-null int64\nDeck_D        418 non-null int64\nDeck_E        418 non-null int64\nDeck_F        418 non-null int64\nDeck_G        418 non-null int64\nDeck_z        418 non-null int64\nPclass_1      418 non-null int64\nPclass_2      418 non-null int64\nPclass_3      418 non-null int64\nEmbarked_C    418 non-null int64\nEmbarked_Q    418 non-null int64\nEmbarked_S    418 non-null int64\ndtypes: float64(2), int64(15)\nmemory usage: 58.8 KB\n",
          "name": "stdout"
        }
      ]
    },
    {
      "metadata": {
        "trusted": true
      },
      "cell_type": "code",
      "source": "##there is no survived column in test, because this is what we are supposed to predict\n\n# also there are lot of missing values because total values in each should be 891 in train dataset",
      "execution_count": 10,
      "outputs": []
    },
    {
      "metadata": {
        "trusted": true
      },
      "cell_type": "code",
      "source": "test_df['Survived']=-888 # adding surevived with a default value",
      "execution_count": 11,
      "outputs": []
    },
    {
      "metadata": {
        "trusted": true
      },
      "cell_type": "code",
      "source": "df=pd.concat((train_df, test_df), axis=0, sort=False)  #making a new dataframe named as DF which will have values of both, test and train",
      "execution_count": 12,
      "outputs": []
    },
    {
      "metadata": {
        "trusted": true
      },
      "cell_type": "code",
      "source": "df.info()",
      "execution_count": 13,
      "outputs": [
        {
          "output_type": "stream",
          "text": "<class 'pandas.core.frame.DataFrame'>\nInt64Index: 1309 entries, 1 to 1309\nData columns (total 18 columns):\nSurvived      1309 non-null int64\nAge           1309 non-null float64\nFare          1309 non-null float64\nIsMale        1309 non-null int64\nDeck_A        1309 non-null int64\nDeck_B        1309 non-null int64\nDeck_C        1309 non-null int64\nDeck_D        1309 non-null int64\nDeck_E        1309 non-null int64\nDeck_F        1309 non-null int64\nDeck_G        1309 non-null int64\nDeck_z        1309 non-null int64\nPclass_1      1309 non-null int64\nPclass_2      1309 non-null int64\nPclass_3      1309 non-null int64\nEmbarked_C    1309 non-null int64\nEmbarked_Q    1309 non-null int64\nEmbarked_S    1309 non-null int64\ndtypes: float64(2), int64(16)\nmemory usage: 194.3 KB\n",
          "name": "stdout"
        }
      ]
    },
    {
      "metadata": {
        "trusted": true
      },
      "cell_type": "code",
      "source": "df[['Name','Age']]",
      "execution_count": 14,
      "outputs": []
    },
    {
      "metadata": {
        "trusted": true
      },
      "cell_type": "code",
      "source": "df.describe()",
      "execution_count": 15,
      "outputs": [
        {
          "output_type": "execute_result",
          "execution_count": 15,
          "data": {
            "text/plain": "          Survived          Age         Fare       IsMale       Deck_A  \\\ncount  1309.000000  1309.000000  1309.000000  1309.000000  1309.000000   \nmean   -283.301757    29.881138    33.276193     0.644003     0.016807   \nstd     414.337413    12.883193    51.743584     0.478997     0.128596   \nmin    -888.000000     0.170000     0.000000     0.000000     0.000000   \n25%    -888.000000    22.000000     7.895800     0.000000     0.000000   \n50%       0.000000    29.881138    14.454200     1.000000     0.000000   \n75%       1.000000    35.000000    31.275000     1.000000     0.000000   \nmax       1.000000    80.000000   512.329200     1.000000     1.000000   \n\n            Deck_B       Deck_C       Deck_D       Deck_E       Deck_F  \\\ncount  1309.000000  1309.000000  1309.000000  1309.000000  1309.000000   \nmean      0.049656     0.071811     0.035141     0.031322     0.016043   \nstd       0.217317     0.258273     0.184207     0.174252     0.125688   \nmin       0.000000     0.000000     0.000000     0.000000     0.000000   \n25%       0.000000     0.000000     0.000000     0.000000     0.000000   \n50%       0.000000     0.000000     0.000000     0.000000     0.000000   \n75%       0.000000     0.000000     0.000000     0.000000     0.000000   \nmax       1.000000     1.000000     1.000000     1.000000     1.000000   \n\n            Deck_G       Deck_z     Pclass_1     Pclass_2     Pclass_3  \\\ncount  1309.000000  1309.000000  1309.000000  1309.000000  1309.000000   \nmean      0.003820     0.775401     0.246753     0.211612     0.541635   \nstd       0.061709     0.417477     0.431287     0.408607     0.498454   \nmin       0.000000     0.000000     0.000000     0.000000     0.000000   \n25%       0.000000     1.000000     0.000000     0.000000     0.000000   \n50%       0.000000     1.000000     0.000000     0.000000     1.000000   \n75%       0.000000     1.000000     0.000000     0.000000     1.000000   \nmax       1.000000     1.000000     1.000000     1.000000     1.000000   \n\n        Embarked_C   Embarked_Q   Embarked_S  \ncount  1309.000000  1309.000000  1309.000000  \nmean      0.207792     0.093965     0.698243  \nstd       0.405882     0.291891     0.459196  \nmin       0.000000     0.000000     0.000000  \n25%       0.000000     0.000000     0.000000  \n50%       0.000000     0.000000     1.000000  \n75%       0.000000     0.000000     1.000000  \nmax       1.000000     1.000000     1.000000  ",
            "text/html": "<div>\n<style scoped>\n    .dataframe tbody tr th:only-of-type {\n        vertical-align: middle;\n    }\n\n    .dataframe tbody tr th {\n        vertical-align: top;\n    }\n\n    .dataframe thead th {\n        text-align: right;\n    }\n</style>\n<table border=\"1\" class=\"dataframe\">\n  <thead>\n    <tr style=\"text-align: right;\">\n      <th></th>\n      <th>Survived</th>\n      <th>Age</th>\n      <th>Fare</th>\n      <th>IsMale</th>\n      <th>Deck_A</th>\n      <th>Deck_B</th>\n      <th>Deck_C</th>\n      <th>Deck_D</th>\n      <th>Deck_E</th>\n      <th>Deck_F</th>\n      <th>Deck_G</th>\n      <th>Deck_z</th>\n      <th>Pclass_1</th>\n      <th>Pclass_2</th>\n      <th>Pclass_3</th>\n      <th>Embarked_C</th>\n      <th>Embarked_Q</th>\n      <th>Embarked_S</th>\n    </tr>\n  </thead>\n  <tbody>\n    <tr>\n      <th>count</th>\n      <td>1309.000000</td>\n      <td>1309.000000</td>\n      <td>1309.000000</td>\n      <td>1309.000000</td>\n      <td>1309.000000</td>\n      <td>1309.000000</td>\n      <td>1309.000000</td>\n      <td>1309.000000</td>\n      <td>1309.000000</td>\n      <td>1309.000000</td>\n      <td>1309.000000</td>\n      <td>1309.000000</td>\n      <td>1309.000000</td>\n      <td>1309.000000</td>\n      <td>1309.000000</td>\n      <td>1309.000000</td>\n      <td>1309.000000</td>\n      <td>1309.000000</td>\n    </tr>\n    <tr>\n      <th>mean</th>\n      <td>-283.301757</td>\n      <td>29.881138</td>\n      <td>33.276193</td>\n      <td>0.644003</td>\n      <td>0.016807</td>\n      <td>0.049656</td>\n      <td>0.071811</td>\n      <td>0.035141</td>\n      <td>0.031322</td>\n      <td>0.016043</td>\n      <td>0.003820</td>\n      <td>0.775401</td>\n      <td>0.246753</td>\n      <td>0.211612</td>\n      <td>0.541635</td>\n      <td>0.207792</td>\n      <td>0.093965</td>\n      <td>0.698243</td>\n    </tr>\n    <tr>\n      <th>std</th>\n      <td>414.337413</td>\n      <td>12.883193</td>\n      <td>51.743584</td>\n      <td>0.478997</td>\n      <td>0.128596</td>\n      <td>0.217317</td>\n      <td>0.258273</td>\n      <td>0.184207</td>\n      <td>0.174252</td>\n      <td>0.125688</td>\n      <td>0.061709</td>\n      <td>0.417477</td>\n      <td>0.431287</td>\n      <td>0.408607</td>\n      <td>0.498454</td>\n      <td>0.405882</td>\n      <td>0.291891</td>\n      <td>0.459196</td>\n    </tr>\n    <tr>\n      <th>min</th>\n      <td>-888.000000</td>\n      <td>0.170000</td>\n      <td>0.000000</td>\n      <td>0.000000</td>\n      <td>0.000000</td>\n      <td>0.000000</td>\n      <td>0.000000</td>\n      <td>0.000000</td>\n      <td>0.000000</td>\n      <td>0.000000</td>\n      <td>0.000000</td>\n      <td>0.000000</td>\n      <td>0.000000</td>\n      <td>0.000000</td>\n      <td>0.000000</td>\n      <td>0.000000</td>\n      <td>0.000000</td>\n      <td>0.000000</td>\n    </tr>\n    <tr>\n      <th>25%</th>\n      <td>-888.000000</td>\n      <td>22.000000</td>\n      <td>7.895800</td>\n      <td>0.000000</td>\n      <td>0.000000</td>\n      <td>0.000000</td>\n      <td>0.000000</td>\n      <td>0.000000</td>\n      <td>0.000000</td>\n      <td>0.000000</td>\n      <td>0.000000</td>\n      <td>1.000000</td>\n      <td>0.000000</td>\n      <td>0.000000</td>\n      <td>0.000000</td>\n      <td>0.000000</td>\n      <td>0.000000</td>\n      <td>0.000000</td>\n    </tr>\n    <tr>\n      <th>50%</th>\n      <td>0.000000</td>\n      <td>29.881138</td>\n      <td>14.454200</td>\n      <td>1.000000</td>\n      <td>0.000000</td>\n      <td>0.000000</td>\n      <td>0.000000</td>\n      <td>0.000000</td>\n      <td>0.000000</td>\n      <td>0.000000</td>\n      <td>0.000000</td>\n      <td>1.000000</td>\n      <td>0.000000</td>\n      <td>0.000000</td>\n      <td>1.000000</td>\n      <td>0.000000</td>\n      <td>0.000000</td>\n      <td>1.000000</td>\n    </tr>\n    <tr>\n      <th>75%</th>\n      <td>1.000000</td>\n      <td>35.000000</td>\n      <td>31.275000</td>\n      <td>1.000000</td>\n      <td>0.000000</td>\n      <td>0.000000</td>\n      <td>0.000000</td>\n      <td>0.000000</td>\n      <td>0.000000</td>\n      <td>0.000000</td>\n      <td>0.000000</td>\n      <td>1.000000</td>\n      <td>0.000000</td>\n      <td>0.000000</td>\n      <td>1.000000</td>\n      <td>0.000000</td>\n      <td>0.000000</td>\n      <td>1.000000</td>\n    </tr>\n    <tr>\n      <th>max</th>\n      <td>1.000000</td>\n      <td>80.000000</td>\n      <td>512.329200</td>\n      <td>1.000000</td>\n      <td>1.000000</td>\n      <td>1.000000</td>\n      <td>1.000000</td>\n      <td>1.000000</td>\n      <td>1.000000</td>\n      <td>1.000000</td>\n      <td>1.000000</td>\n      <td>1.000000</td>\n      <td>1.000000</td>\n      <td>1.000000</td>\n      <td>1.000000</td>\n      <td>1.000000</td>\n      <td>1.000000</td>\n      <td>1.000000</td>\n    </tr>\n  </tbody>\n</table>\n</div>"
          },
          "metadata": {}
        }
      ]
    },
    {
      "metadata": {
        "trusted": true
      },
      "cell_type": "code",
      "source": "print(df.Fare.min())",
      "execution_count": 16,
      "outputs": [
        {
          "output_type": "stream",
          "text": "0.0\n",
          "name": "stdout"
        }
      ]
    },
    {
      "metadata": {
        "trusted": true
      },
      "cell_type": "code",
      "source": "print(df.Fare.max())",
      "execution_count": 17,
      "outputs": [
        {
          "output_type": "stream",
          "text": "512.3292\n",
          "name": "stdout"
        }
      ]
    },
    {
      "metadata": {
        "trusted": true
      },
      "cell_type": "code",
      "source": "df.Sex.value_counts()\n\n#commented out because this needs to run only one time and not after the data is prepared, so run this only once and after that comment out\n#else it will give error because later on we will be removin this column and so it will  be error",
      "execution_count": 18,
      "outputs": []
    },
    {
      "metadata": {
        "trusted": true
      },
      "cell_type": "code",
      "source": "df.Sex.value_counts(normalize=True)   # the data is normalized, that means that the data is valued between 0-1\n\n#commented out because this needs to run only one time and not after the data is prepared, so run this only once and after that comment out\n#else it will give error because later on we will be removin this column and so it will  be error",
      "execution_count": 19,
      "outputs": []
    },
    {
      "metadata": {
        "trusted": true
      },
      "cell_type": "code",
      "source": "df.Fare.plot(kind='box')",
      "execution_count": 20,
      "outputs": [
        {
          "output_type": "execute_result",
          "execution_count": 20,
          "data": {
            "text/plain": "<matplotlib.axes._subplots.AxesSubplot at 0x7fb633f43850>"
          },
          "metadata": {}
        }
      ]
    },
    {
      "metadata": {
        "trusted": true
      },
      "cell_type": "code",
      "source": "df.Pclass.value_counts().plot(kind='bar')\n\n#commented out because this needs to run only one time and not after the data is prepared, so run this only once and after that comment out\n#else it will give error because later on we will be removin this column and so it will  be error",
      "execution_count": 21,
      "outputs": []
    },
    {
      "metadata": {
        "trusted": true
      },
      "cell_type": "code",
      "source": "df.Pclass.value_counts().plot(kind='bar', rot=0, title='Class wise passenger count', color='c')\n\n#rot is for rotating the labels\n#commented out because this needs to run only one time and not after the data is prepared, so run this only once and after that comment out\n#else it will give error because later on we will be removin this column and so it will  be error",
      "execution_count": 22,
      "outputs": []
    },
    {
      "metadata": {
        "trusted": true
      },
      "cell_type": "code",
      "source": "df.Age.plot(kind='hist', title='histogram for Age', color='r')",
      "execution_count": 23,
      "outputs": [
        {
          "output_type": "execute_result",
          "execution_count": 23,
          "data": {
            "text/plain": "<matplotlib.axes._subplots.AxesSubplot at 0x7fb633a5ac50>"
          },
          "metadata": {}
        },
        {
          "output_type": "display_data",
          "data": {
            "image/png": "[encoded data removed]",
            "text/plain": "<Figure size 432x288 with 1 Axes>"
          },
          "metadata": {
            "needs_background": "light"
          }
        }
      ]
    },
    {
      "metadata": {
        "trusted": true
      },
      "cell_type": "code",
      "source": "df.Age.plot(kind='hist', title='histogram for Age', color='r', bins=20)  \n\n\n#bins are used to create range for yaxis, like 0-20, 20-40 bin is 20",
      "execution_count": 24,
      "outputs": [
        {
          "output_type": "execute_result",
          "execution_count": 24,
          "data": {
            "text/plain": "<matplotlib.axes._subplots.AxesSubplot at 0x7fb633788810>"
          },
          "metadata": {}
        },
        {
          "output_type": "display_data",
          "data": {
            "image/png": "[encoded data removed]",
            "text/plain": "<Figure size 432x288 with 1 Axes>"
          },
          "metadata": {
            "needs_background": "light"
          }
        }
      ]
    },
    {
      "metadata": {
        "trusted": true
      },
      "cell_type": "code",
      "source": "df.Age.plot(kind='kde', title='kde density plot for Age', color='r')",
      "execution_count": 25,
      "outputs": [
        {
          "output_type": "execute_result",
          "execution_count": 25,
          "data": {
            "text/plain": "<matplotlib.axes._subplots.AxesSubplot at 0x7fb63339d450>"
          },
          "metadata": {}
        },
        {
          "output_type": "display_data",
          "data": {
            "image/png": "[encoded data removed]",
            "text/plain": "<Figure size 432x288 with 1 Axes>"
          },
          "metadata": {
            "needs_background": "light"
          }
        }
      ]
    },
    {
      "metadata": {
        "trusted": true
      },
      "cell_type": "code",
      "source": "df.plot.scatter(x='Age', y='Fare', color='c', title='scatter plot')",
      "execution_count": 26,
      "outputs": [
        {
          "output_type": "execute_result",
          "execution_count": 26,
          "data": {
            "text/plain": "<matplotlib.axes._subplots.AxesSubplot at 0x7fb633312f50>"
          },
          "metadata": {}
        },
        {
          "output_type": "display_data",
          "data": {
            "image/png": "[encoded data removed]",
            "text/plain": "<Figure size 432x288 with 1 Axes>"
          },
          "metadata": {
            "needs_background": "light"
          }
        }
      ]
    },
    {
      "metadata": {
        "trusted": true
      },
      "cell_type": "code",
      "source": "df.plot.scatter(x='Age', y='Fare', color='c', title='scatter plot', alpha=0.1) #alpha used for getting transperancy",
      "execution_count": 27,
      "outputs": [
        {
          "output_type": "execute_result",
          "execution_count": 27,
          "data": {
            "text/plain": "<matplotlib.axes._subplots.AxesSubplot at 0x7fb633289d50>"
          },
          "metadata": {}
        },
        {
          "output_type": "display_data",
          "data": {
            "image/png": "[encoded data removed]",
            "text/plain": "<Figure size 432x288 with 1 Axes>"
          },
          "metadata": {
            "needs_background": "light"
          }
        }
      ]
    },
    {
      "metadata": {
        "trusted": true
      },
      "cell_type": "code",
      "source": "df.plot.scatter(x='Age', y='Fare', color='c', title='scatter plot');\n#semicolon for not getting the <matplotlib.axes._subplots.AxesSubplot at 0x7f66d17d9dd0> message\n",
      "execution_count": 28,
      "outputs": [
        {
          "output_type": "display_data",
          "data": {
            "image/png": "[encoded data removed]",
            "text/plain": "<Figure size 432x288 with 1 Axes>"
          },
          "metadata": {
            "needs_background": "light"
          }
        }
      ]
    },
    {
      "metadata": {
        "trusted": true
      },
      "cell_type": "code",
      "source": "df.info",
      "execution_count": 29,
      "outputs": [
        {
          "output_type": "execute_result",
          "execution_count": 29,
          "data": {
            "text/plain": "<bound method DataFrame.info of              Survived        Age      Fare  IsMale  Deck_A  Deck_B  Deck_C  \\\nPassengerId                                                                  \n1                   0  22.000000    7.2500       1       0       0       0   \n2                   1  38.000000   71.2833       0       0       0       1   \n3                   1  26.000000    7.9250       0       0       0       0   \n4                   1  35.000000   53.1000       0       0       0       1   \n5                   0  35.000000    8.0500       1       0       0       0   \n6                   0  29.881138    8.4583       1       0       0       0   \n7                   0  54.000000   51.8625       1       0       0       0   \n8                   0   2.000000   21.0750       1       0       0       0   \n9                   1  27.000000   11.1333       0       0       0       0   \n10                  1  14.000000   30.0708       0       0       0       0   \n11                  1   4.000000   16.7000       0       0       0       0   \n12                  1  58.000000   26.5500       0       0       0       1   \n13                  0  20.000000    8.0500       1       0       0       0   \n14                  0  39.000000   31.2750       1       0       0       0   \n15                  0  14.000000    7.8542       0       0       0       0   \n16                  1  55.000000   16.0000       0       0       0       0   \n17                  0   2.000000   29.1250       1       0       0       0   \n18                  1  29.881138   13.0000       1       0       0       0   \n19                  0  31.000000   18.0000       0       0       0       0   \n20                  1  29.881138    7.2250       0       0       0       0   \n21                  0  35.000000   26.0000       1       0       0       0   \n22                  1  34.000000   13.0000       1       0       0       0   \n23                  1  15.000000    8.0292       0       0       0       0   \n24                  1  28.000000   35.5000       1       1       0       0   \n25                  0   8.000000   21.0750       0       0       0       0   \n26                  1  38.000000   31.3875       0       0       0       0   \n27                  0  29.881138    7.2250       1       0       0       0   \n28                  0  19.000000  263.0000       1       0       0       1   \n29                  1  29.881138    7.8792       0       0       0       0   \n30                  0  29.881138    7.8958       1       0       0       0   \n...               ...        ...       ...     ...     ...     ...     ...   \n1280             -888  21.000000    7.7500       1       0       0       0   \n1281             -888   6.000000   21.0750       1       0       0       0   \n1282             -888  23.000000   93.5000       1       0       1       0   \n1283             -888  51.000000   39.4000       0       0       0       0   \n1284             -888  13.000000   20.2500       1       0       0       0   \n1285             -888  47.000000   10.5000       1       0       0       0   \n1286             -888  29.000000   22.0250       1       0       0       0   \n1287             -888  18.000000   60.0000       0       0       0       1   \n1288             -888  24.000000    7.2500       1       0       0       0   \n1289             -888  48.000000   79.2000       0       0       1       0   \n1290             -888  22.000000    7.7750       1       0       0       0   \n1291             -888  31.000000    7.7333       1       0       0       0   \n1292             -888  30.000000  164.8667       0       0       0       1   \n1293             -888  38.000000   21.0000       1       0       0       0   \n1294             -888  22.000000   59.4000       0       0       0       0   \n1295             -888  17.000000   47.1000       1       0       0       0   \n1296             -888  43.000000   27.7208       1       0       0       0   \n1297             -888  20.000000   13.8625       1       0       0       0   \n1298             -888  23.000000   10.5000       1       0       0       0   \n1299             -888  50.000000  211.5000       1       0       0       1   \n1300             -888  29.881138    7.7208       0       0       0       0   \n1301             -888   3.000000   13.7750       0       0       0       0   \n1302             -888  29.881138    7.7500       0       0       0       0   \n1303             -888  37.000000   90.0000       0       0       0       1   \n1304             -888  28.000000    7.7750       0       0       0       0   \n1305             -888  29.881138    8.0500       1       0       0       0   \n1306             -888  39.000000  108.9000       0       0       0       1   \n1307             -888  38.500000    7.2500       1       0       0       0   \n1308             -888  29.881138    8.0500       1       0       0       0   \n1309             -888  29.881138   22.3583       1       0       0       0   \n\n             Deck_D  Deck_E  Deck_F  Deck_G  Deck_z  Pclass_1  Pclass_2  \\\nPassengerId                                                               \n1                 0       0       0       0       1         0         0   \n2                 0       0       0       0       0         1         0   \n3                 0       0       0       0       1         0         0   \n4                 0       0       0       0       0         1         0   \n5                 0       0       0       0       1         0         0   \n6                 0       0       0       0       1         0         0   \n7                 0       1       0       0       0         1         0   \n8                 0       0       0       0       1         0         0   \n9                 0       0       0       0       1         0         0   \n10                0       0       0       0       1         0         1   \n11                0       0       0       1       0         0         0   \n12                0       0       0       0       0         1         0   \n13                0       0       0       0       1         0         0   \n14                0       0       0       0       1         0         0   \n15                0       0       0       0       1         0         0   \n16                0       0       0       0       1         0         1   \n17                0       0       0       0       1         0         0   \n18                0       0       0       0       1         0         1   \n19                0       0       0       0       1         0         0   \n20                0       0       0       0       1         0         0   \n21                0       0       0       0       1         0         1   \n22                1       0       0       0       0         0         1   \n23                0       0       0       0       1         0         0   \n24                0       0       0       0       0         1         0   \n25                0       0       0       0       1         0         0   \n26                0       0       0       0       1         0         0   \n27                0       0       0       0       1         0         0   \n28                0       0       0       0       0         1         0   \n29                0       0       0       0       1         0         0   \n30                0       0       0       0       1         0         0   \n...             ...     ...     ...     ...     ...       ...       ...   \n1280              0       0       0       0       1         0         0   \n1281              0       0       0       0       1         0         0   \n1282              0       0       0       0       0         1         0   \n1283              1       0       0       0       0         1         0   \n1284              0       0       0       0       1         0         0   \n1285              0       0       0       0       1         0         1   \n1286              0       0       0       0       1         0         0   \n1287              0       0       0       0       0         1         0   \n1288              0       0       0       0       1         0         0   \n1289              0       0       0       0       0         1         0   \n1290              0       0       0       0       1         0         0   \n1291              0       0       0       0       1         0         0   \n1292              0       0       0       0       0         1         0   \n1293              0       0       0       0       1         0         1   \n1294              0       0       0       0       1         1         0   \n1295              0       0       0       0       1         1         0   \n1296              1       0       0       0       0         1         0   \n1297              1       0       0       0       0         0         1   \n1298              0       0       0       0       1         0         1   \n1299              0       0       0       0       0         1         0   \n1300              0       0       0       0       1         0         0   \n1301              0       0       0       0       1         0         0   \n1302              0       0       0       0       1         0         0   \n1303              0       0       0       0       0         1         0   \n1304              0       0       0       0       1         0         0   \n1305              0       0       0       0       1         0         0   \n1306              0       0       0       0       0         1         0   \n1307              0       0       0       0       1         0         0   \n1308              0       0       0       0       1         0         0   \n1309              0       0       0       0       1         0         0   \n\n             Pclass_3  Embarked_C  Embarked_Q  Embarked_S  \nPassengerId                                                \n1                   1           0           0           1  \n2                   0           1           0           0  \n3                   1           0           0           1  \n4                   0           0           0           1  \n5                   1           0           0           1  \n6                   1           0           1           0  \n7                   0           0           0           1  \n8                   1           0           0           1  \n9                   1           0           0           1  \n10                  0           1           0           0  \n11                  1           0           0           1  \n12                  0           0           0           1  \n13                  1           0           0           1  \n14                  1           0           0           1  \n15                  1           0           0           1  \n16                  0           0           0           1  \n17                  1           0           1           0  \n18                  0           0           0           1  \n19                  1           0           0           1  \n20                  1           1           0           0  \n21                  0           0           0           1  \n22                  0           0           0           1  \n23                  1           0           1           0  \n24                  0           0           0           1  \n25                  1           0           0           1  \n26                  1           0           0           1  \n27                  1           1           0           0  \n28                  0           0           0           1  \n29                  1           0           1           0  \n30                  1           0           0           1  \n...               ...         ...         ...         ...  \n1280                1           0           1           0  \n1281                1           0           0           1  \n1282                0           0           0           1  \n1283                0           0           0           1  \n1284                1           0           0           1  \n1285                0           0           0           1  \n1286                1           0           0           1  \n1287                0           0           0           1  \n1288                1           0           1           0  \n1289                0           1           0           0  \n1290                1           0           0           1  \n1291                1           0           1           0  \n1292                0           0           0           1  \n1293                0           0           0           1  \n1294                0           1           0           0  \n1295                0           0           0           1  \n1296                0           1           0           0  \n1297                0           1           0           0  \n1298                0           0           0           1  \n1299                0           1           0           0  \n1300                1           0           1           0  \n1301                1           0           0           1  \n1302                1           0           1           0  \n1303                0           0           1           0  \n1304                1           0           0           1  \n1305                1           0           0           1  \n1306                0           1           0           0  \n1307                1           0           0           1  \n1308                1           0           0           1  \n1309                1           1           0           0  \n\n[1309 rows x 18 columns]>"
          },
          "metadata": {}
        }
      ]
    },
    {
      "metadata": {
        "trusted": true
      },
      "cell_type": "code",
      "source": "#Grouping is used to group the available dataset into different group and then get their average,mean, meadian etc\n\n# like grouping the whole dataset into male and female and then getting male average salary and female average salary\\\n\ndf.groupby('Sex').Age.median()\n\n#commented out because this needs to run only one time and not after the data is prepared, so run this only once and after that comment out\n#else it will give error because later on we will be removin this column and so it will  be error",
      "execution_count": 30,
      "outputs": []
    },
    {
      "metadata": {
        "trusted": true
      },
      "cell_type": "code",
      "source": "df.groupby(['Pclass']).Fare.median()\n#commented out because this needs to run only one time and not after the data is prepared, so run this only once and after that comment out\n#else it will give error because later on we will be removin this column and so it will  be error\n#we can see that the first class passengers pay more average fee than 2nd and 3rd class",
      "execution_count": 31,
      "outputs": []
    },
    {
      "metadata": {
        "trusted": true
      },
      "cell_type": "code",
      "source": "df.groupby(['Pclass'])['Fare', 'Age'].median()\n#commented out because this needs to run only one time and not after the data is prepared, so run this only once and after that comment out\n#else it will give error because later on we will be removin this column and so it will  be error\n#",
      "execution_count": 32,
      "outputs": []
    },
    {
      "metadata": {
        "trusted": true
      },
      "cell_type": "code",
      "source": "df.groupby(['Pclass']).agg({'Fare':'mean','Age':'median'})\n#commented out because this needs to run only one time and not after the data is prepared, so run this only once and after that comment out\n#else it will give error because later on we will be removin this column and so it will  be error\n#here we have the mean of the fare and median of the age with Pclass as index",
      "execution_count": 33,
      "outputs": []
    },
    {
      "metadata": {
        "trusted": true
      },
      "cell_type": "code",
      "source": "## Crosstab\n\n#Crosstabs are like 2D matrix of data, which helps us to get more information by using data\n# We use two different data information and plot them in 2D matrix and see the intersection\n\n#Like how many 1st class passengers were men and how many were women. Similarly\n#how many 2nd class passenger were men and how many women\n\n",
      "execution_count": 34,
      "outputs": []
    },
    {
      "metadata": {
        "trusted": true
      },
      "cell_type": "code",
      "source": "pd.crosstab(df.Sex, df.Pclass)\n#commented out because this needs to run only one time and not after the data is prepared, so run this only once and after that comment out\n#else it will give error because later on we will be removin this column and so it will  be error\n#here we have a matrix betweem two different features",
      "execution_count": 35,
      "outputs": []
    },
    {
      "metadata": {
        "trusted": true
      },
      "cell_type": "code",
      "source": "pd.crosstab(df.Sex, df.Pclass).plot(kind='bar');\n\n#here we plotted the matrix that we would have obtained",
      "execution_count": 36,
      "outputs": []
    },
    {
      "metadata": {
        "trusted": true
      },
      "cell_type": "code",
      "source": "##Pivots (kind of natural extension of the crosstab)\n\n#the difference between crosstab and pivot table is that in pivot table we apply some kind of function also\n# Like we apply mean age to the male and female passengers of each class, so the value shown will not be the count, but the mean age of 1st class male and so on ",
      "execution_count": 37,
      "outputs": []
    },
    {
      "metadata": {
        "trusted": true
      },
      "cell_type": "code",
      "source": "df.pivot_table(index='Sex', columns='Pclass', values='Age', aggfunc='mean')\n\n# here aggfunc means aggregate function. So 37.03 is the mean age of the 1st class male passenger\n# In pivot table, we were getting there head count",
      "execution_count": 38,
      "outputs": []
    },
    {
      "metadata": {
        "trusted": true
      },
      "cell_type": "code",
      "source": "#We can acheive the same result through other method also, below two more ways are given\n\ndf.groupby(['Sex','Pclass']).Age.mean()",
      "execution_count": 39,
      "outputs": []
    },
    {
      "metadata": {
        "trusted": true
      },
      "cell_type": "code",
      "source": "df.groupby(['Sex','Pclass']).Age.mean().unstack()\n\n#using unstack for a better uncluttered view",
      "execution_count": 40,
      "outputs": []
    },
    {
      "metadata": {
        "trusted": true
      },
      "cell_type": "code",
      "source": "## Data preparation for ML\n\ntrain_df.info()",
      "execution_count": 41,
      "outputs": []
    },
    {
      "metadata": {
        "trusted": true
      },
      "cell_type": "markdown",
      "source": "\n\n\n## MAchine LEarning Starts Here !\n"
    },
    {
      "metadata": {
        "trusted": true
      },
      "cell_type": "code",
      "source": "# We will use a baseline model, which is just a basic model to compare with other algorithms like regression\n",
      "execution_count": 43,
      "outputs": []
    },
    {
      "metadata": {
        "trusted": true
      },
      "cell_type": "code",
      "source": "# Our implemented model should score more than baseline model, like our regression should score more than baseline's score\n",
      "execution_count": 44,
      "outputs": []
    },
    {
      "metadata": {
        "trusted": true
      },
      "cell_type": "code",
      "source": "# first we have to refine our data",
      "execution_count": 45,
      "outputs": []
    },
    {
      "metadata": {
        "trusted": true
      },
      "cell_type": "code",
      "source": "df.info()",
      "execution_count": 46,
      "outputs": [
        {
          "output_type": "stream",
          "text": "<class 'pandas.core.frame.DataFrame'>\nInt64Index: 1309 entries, 1 to 1309\nData columns (total 18 columns):\nSurvived      1309 non-null int64\nAge           1309 non-null float64\nFare          1309 non-null float64\nIsMale        1309 non-null int64\nDeck_A        1309 non-null int64\nDeck_B        1309 non-null int64\nDeck_C        1309 non-null int64\nDeck_D        1309 non-null int64\nDeck_E        1309 non-null int64\nDeck_F        1309 non-null int64\nDeck_G        1309 non-null int64\nDeck_z        1309 non-null int64\nPclass_1      1309 non-null int64\nPclass_2      1309 non-null int64\nPclass_3      1309 non-null int64\nEmbarked_C    1309 non-null int64\nEmbarked_Q    1309 non-null int64\nEmbarked_S    1309 non-null int64\ndtypes: float64(2), int64(16)\nmemory usage: 194.3 KB\n",
          "name": "stdout"
        }
      ]
    },
    {
      "metadata": {
        "trusted": true
      },
      "cell_type": "code",
      "source": "# first we treat embarked because it has least errors\n\ndf[df.Embarked.isnull()]\n\n\n###commented out because this needs to run only one time and not after the data is prepared, so run this only once and after that comment out\n",
      "execution_count": 52,
      "outputs": []
    },
    {
      "metadata": {
        "trusted": true
      },
      "cell_type": "code",
      "source": "df.Embarked.value_counts()\n#how many people boarded from each location, S(south hempton), so we wil use this to fill other values\n\n###commented out because this needs to run only one time and not after the data is prepared, so run this only once and after that comment out\n",
      "execution_count": 54,
      "outputs": []
    },
    {
      "metadata": {
        "trusted": true
      },
      "cell_type": "code",
      "source": "#now checking which embarkement point has more number of survivalsal\n#-888 means no survival information\n# we'll see south hemptop has most survival as 217\n\npd.crosstab(df[df.Survived != -888].Survived, df[df.Survived !=-888].Embarked)\n\n###commented out because this needs to run only one time and not after the data is prepared, so run this only once and after that comment out\n",
      "execution_count": 56,
      "outputs": []
    },
    {
      "metadata": {
        "trusted": true
      },
      "cell_type": "code",
      "source": "\n# first we will extract(select from the data) the embarkement feature with null value and then assign it with 'S' ie south hempton\n# but the missing values people had fare 80, which is clossest to C, so we will fill the data with 'C'\n#we will use fillna function that is specifically used to fill missing values\n\ndf.Embarked.fillna('C', inplace=True)\n\n# writting true because this will false will create a parallel df with same name but true will update in the same one\n\n\n###commented out because this needs to run only one time and not after the data is prepared, so run this only once and after that comment out\n",
      "execution_count": 57,
      "outputs": []
    },
    {
      "metadata": {
        "trusted": true
      },
      "cell_type": "code",
      "source": "df.info()\n\n#we can see that the missing values have been filled",
      "execution_count": 58,
      "outputs": [
        {
          "output_type": "stream",
          "text": "<class 'pandas.core.frame.DataFrame'>\nInt64Index: 1309 entries, 1 to 1309\nData columns (total 18 columns):\nSurvived      1309 non-null int64\nAge           1309 non-null float64\nFare          1309 non-null float64\nIsMale        1309 non-null int64\nDeck_A        1309 non-null int64\nDeck_B        1309 non-null int64\nDeck_C        1309 non-null int64\nDeck_D        1309 non-null int64\nDeck_E        1309 non-null int64\nDeck_F        1309 non-null int64\nDeck_G        1309 non-null int64\nDeck_z        1309 non-null int64\nPclass_1      1309 non-null int64\nPclass_2      1309 non-null int64\nPclass_3      1309 non-null int64\nEmbarked_C    1309 non-null int64\nEmbarked_Q    1309 non-null int64\nEmbarked_S    1309 non-null int64\ndtypes: float64(2), int64(16)\nmemory usage: 194.3 KB\n",
          "name": "stdout"
        }
      ]
    },
    {
      "metadata": {
        "trusted": true
      },
      "cell_type": "code",
      "source": "df[df.Embarked.isnull()]\n\n# we will see that no value is null now",
      "execution_count": null,
      "outputs": []
    },
    {
      "metadata": {
        "trusted": true
      },
      "cell_type": "code",
      "source": "print(df.Embarked)\n#all values filled",
      "execution_count": null,
      "outputs": []
    },
    {
      "metadata": {
        "trusted": true
      },
      "cell_type": "code",
      "source": "# now will see the fare attribute and correct it \n\ndf[df.Fare.isnull()]",
      "execution_count": null,
      "outputs": []
    },
    {
      "metadata": {
        "trusted": true
      },
      "cell_type": "code",
      "source": "# the passenger embarked from S and class 3, so we will use median of fare of people with class 3 and embarkement from S\n\n#median_fare=df.loc[(df.Pclass==3) & (df.Embarked =='S'), 'Fare'].median()\n\n# we are extracting only fare attribute\n\nprint (median_fare)",
      "execution_count": null,
      "outputs": []
    },
    {
      "metadata": {
        "trusted": true
      },
      "cell_type": "code",
      "source": "df.Fare.fillna(median_fare, inplace=True)",
      "execution_count": null,
      "outputs": []
    },
    {
      "metadata": {
        "trusted": true
      },
      "cell_type": "code",
      "source": "df.info()\n\n# now fare is also treated",
      "execution_count": 59,
      "outputs": []
    },
    {
      "metadata": {
        "trusted": true
      },
      "cell_type": "code",
      "source": "# now we will treat age\n# this command will only display 15 rows at a time\npd.options.display.max_rows=15",
      "execution_count": 60,
      "outputs": []
    },
    {
      "metadata": {
        "trusted": true
      },
      "cell_type": "code",
      "source": "df[df.Age.isnull()]",
      "execution_count": 61,
      "outputs": [
        {
          "output_type": "execute_result",
          "execution_count": 61,
          "data": {
            "text/plain": "Empty DataFrame\nColumns: [Survived, Age, Fare, IsMale, Deck_A, Deck_B, Deck_C, Deck_D, Deck_E, Deck_F, Deck_G, Deck_z, Pclass_1, Pclass_2, Pclass_3, Embarked_C, Embarked_Q, Embarked_S]\nIndex: []",
            "text/html": "<div>\n<style scoped>\n    .dataframe tbody tr th:only-of-type {\n        vertical-align: middle;\n    }\n\n    .dataframe tbody tr th {\n        vertical-align: top;\n    }\n\n    .dataframe thead th {\n        text-align: right;\n    }\n</style>\n<table border=\"1\" class=\"dataframe\">\n  <thead>\n    <tr style=\"text-align: right;\">\n      <th></th>\n      <th>Survived</th>\n      <th>Age</th>\n      <th>Fare</th>\n      <th>IsMale</th>\n      <th>Deck_A</th>\n      <th>Deck_B</th>\n      <th>Deck_C</th>\n      <th>Deck_D</th>\n      <th>Deck_E</th>\n      <th>Deck_F</th>\n      <th>Deck_G</th>\n      <th>Deck_z</th>\n      <th>Pclass_1</th>\n      <th>Pclass_2</th>\n      <th>Pclass_3</th>\n      <th>Embarked_C</th>\n      <th>Embarked_Q</th>\n      <th>Embarked_S</th>\n    </tr>\n    <tr>\n      <th>PassengerId</th>\n      <th></th>\n      <th></th>\n      <th></th>\n      <th></th>\n      <th></th>\n      <th></th>\n      <th></th>\n      <th></th>\n      <th></th>\n      <th></th>\n      <th></th>\n      <th></th>\n      <th></th>\n      <th></th>\n      <th></th>\n      <th></th>\n      <th></th>\n      <th></th>\n    </tr>\n  </thead>\n  <tbody>\n  </tbody>\n</table>\n</div>"
          },
          "metadata": {}
        }
      ]
    },
    {
      "metadata": {
        "trusted": true
      },
      "cell_type": "code",
      "source": "# we will replace all the age with mean age\n\ndf.Age.mean()",
      "execution_count": 62,
      "outputs": [
        {
          "output_type": "execute_result",
          "execution_count": 62,
          "data": {
            "text/plain": "29.881137667303985"
          },
          "metadata": {}
        }
      ]
    },
    {
      "metadata": {
        "trusted": true
      },
      "cell_type": "code",
      "source": "df.Age.fillna(df.Age.mean(), inplace=True)",
      "execution_count": 63,
      "outputs": []
    },
    {
      "metadata": {
        "trusted": true
      },
      "cell_type": "code",
      "source": "df.info()\n# we have solved the age problem too",
      "execution_count": 64,
      "outputs": [
        {
          "output_type": "stream",
          "text": "<class 'pandas.core.frame.DataFrame'>\nInt64Index: 1309 entries, 1 to 1309\nData columns (total 18 columns):\nSurvived      1309 non-null int64\nAge           1309 non-null float64\nFare          1309 non-null float64\nIsMale        1309 non-null int64\nDeck_A        1309 non-null int64\nDeck_B        1309 non-null int64\nDeck_C        1309 non-null int64\nDeck_D        1309 non-null int64\nDeck_E        1309 non-null int64\nDeck_F        1309 non-null int64\nDeck_G        1309 non-null int64\nDeck_z        1309 non-null int64\nPclass_1      1309 non-null int64\nPclass_2      1309 non-null int64\nPclass_3      1309 non-null int64\nEmbarked_C    1309 non-null int64\nEmbarked_Q    1309 non-null int64\nEmbarked_S    1309 non-null int64\ndtypes: float64(2), int64(16)\nmemory usage: 194.3 KB\n",
          "name": "stdout"
        }
      ]
    },
    {
      "metadata": {
        "trusted": true
      },
      "cell_type": "code",
      "source": "## OUTLIERS\n\n# now we will handle outliers, these are extreme values that tend to affect the data due to someones mistake",
      "execution_count": 65,
      "outputs": []
    },
    {
      "metadata": {
        "trusted": true
      },
      "cell_type": "code",
      "source": "df.Fare.plot(kind='box');\n\n#we can see that one point is significantly above others, an outlier. We'll see why is that.",
      "execution_count": 66,
      "outputs": [
        {
          "output_type": "display_data",
          "data": {
            "image/png": "[encoded data removed]",
            "text/plain": "<Figure size 432x288 with 1 Axes>"
          },
          "metadata": {
            "needs_background": "light"
          }
        }
      ]
    },
    {
      "metadata": {
        "trusted": true
      },
      "cell_type": "code",
      "source": "#binning.. the values are put in different bin depending on the range",
      "execution_count": 67,
      "outputs": []
    },
    {
      "metadata": {
        "trusted": true
      },
      "cell_type": "code",
      "source": "pd.qcut(df.Fare,4)\n\n# we canb see the ranges in the catogries section of the output",
      "execution_count": 68,
      "outputs": [
        {
          "output_type": "execute_result",
          "execution_count": 68,
          "data": {
            "text/plain": "PassengerId\n1         (-0.001, 7.896]\n2       (31.275, 512.329]\n3         (7.896, 14.454]\n4       (31.275, 512.329]\n5         (7.896, 14.454]\n6         (7.896, 14.454]\n7       (31.275, 512.329]\n              ...        \n1303    (31.275, 512.329]\n1304      (-0.001, 7.896]\n1305      (7.896, 14.454]\n1306    (31.275, 512.329]\n1307      (-0.001, 7.896]\n1308      (7.896, 14.454]\n1309     (14.454, 31.275]\nName: Fare, Length: 1309, dtype: category\nCategories (4, interval[float64]): [(-0.001, 7.896] < (7.896, 14.454] < (14.454, 31.275] < (31.275, 512.329]]"
          },
          "metadata": {}
        }
      ]
    },
    {
      "metadata": {
        "trusted": true
      },
      "cell_type": "code",
      "source": "pd.qcut(df.Fare, 4, labels=['very_low','low','high','very_high'])\n\n# this is called descritization.. converting numerical to catogorial feature",
      "execution_count": 69,
      "outputs": [
        {
          "output_type": "execute_result",
          "execution_count": 69,
          "data": {
            "text/plain": "PassengerId\n1        very_low\n2       very_high\n3             low\n4       very_high\n5             low\n6             low\n7       very_high\n          ...    \n1303    very_high\n1304     very_low\n1305          low\n1306    very_high\n1307     very_low\n1308          low\n1309         high\nName: Fare, Length: 1309, dtype: category\nCategories (4, object): [very_low < low < high < very_high]"
          },
          "metadata": {}
        }
      ]
    },
    {
      "metadata": {
        "trusted": true
      },
      "cell_type": "code",
      "source": "# now we are creating a new feature into our df dataset as Fare_Bin\n\ndf['Fare_Bin']=pd.qcut(df.Fare, 4, labels=['very_low','low','high','very_high'])",
      "execution_count": 70,
      "outputs": []
    },
    {
      "metadata": {
        "trusted": true
      },
      "cell_type": "code",
      "source": "df.info()\n\n#fare_bin created",
      "execution_count": 71,
      "outputs": [
        {
          "output_type": "stream",
          "text": "<class 'pandas.core.frame.DataFrame'>\nInt64Index: 1309 entries, 1 to 1309\nData columns (total 19 columns):\nSurvived      1309 non-null int64\nAge           1309 non-null float64\nFare          1309 non-null float64\nIsMale        1309 non-null int64\nDeck_A        1309 non-null int64\nDeck_B        1309 non-null int64\nDeck_C        1309 non-null int64\nDeck_D        1309 non-null int64\nDeck_E        1309 non-null int64\nDeck_F        1309 non-null int64\nDeck_G        1309 non-null int64\nDeck_z        1309 non-null int64\nPclass_1      1309 non-null int64\nPclass_2      1309 non-null int64\nPclass_3      1309 non-null int64\nEmbarked_C    1309 non-null int64\nEmbarked_Q    1309 non-null int64\nEmbarked_S    1309 non-null int64\nFare_Bin      1309 non-null category\ndtypes: category(1), float64(2), int64(16)\nmemory usage: 195.8 KB\n",
          "name": "stdout"
        }
      ]
    },
    {
      "metadata": {
        "trusted": true
      },
      "cell_type": "code",
      "source": "## Feature Engineering\n\n# It means making new columns like name, salary etc",
      "execution_count": 72,
      "outputs": []
    },
    {
      "metadata": {
        "trusted": true
      },
      "cell_type": "code",
      "source": "df['AgeState']=nm.where(df['Age']>=18, 'Adult', 'Child')\n\n# add new feature/column, in which is age is above 18 or equal ,then that person is adult else that person is Child",
      "execution_count": 73,
      "outputs": []
    },
    {
      "metadata": {
        "trusted": true
      },
      "cell_type": "code",
      "source": "df['AgeState'].value_counts()",
      "execution_count": 74,
      "outputs": [
        {
          "output_type": "execute_result",
          "execution_count": 74,
          "data": {
            "text/plain": "Adult    1155\nChild     154\nName: AgeState, dtype: int64"
          },
          "metadata": {}
        }
      ]
    },
    {
      "metadata": {
        "trusted": true
      },
      "cell_type": "code",
      "source": "## Feature Cabin",
      "execution_count": 75,
      "outputs": []
    },
    {
      "metadata": {
        "trusted": true
      },
      "cell_type": "code",
      "source": "df.Cabin",
      "execution_count": 76,
      "outputs": []
    },
    {
      "metadata": {
        "trusted": true
      },
      "cell_type": "code",
      "source": "df.Cabin.unique()\n\n# we have nan meaning some were not allocated any cabin, one of them is also T\n\n###commented out because this needs to run only one time and not after the data is prepared, so run this only once and after that comment out\n",
      "execution_count": 82,
      "outputs": []
    },
    {
      "metadata": {
        "trusted": true
      },
      "cell_type": "code",
      "source": "# exploring cabins with T\ndf.loc[df.Cabin=='T']\n#getting rows for which cabin value is T\n# ONLY ONE, SO LETS ASSUME IT TO BE NAN",
      "execution_count": 83,
      "outputs": []
    },
    {
      "metadata": {
        "trusted": true
      },
      "cell_type": "code",
      "source": "df.loc[df.Cabin == 'T','Cabin']=nm.NaN\n#setting cabin to NaN because it is most probably error as only one person\n\n###commented out because this needs to run only one time and not after the data is prepared, so run this only once and after that comment out\n",
      "execution_count": 84,
      "outputs": []
    },
    {
      "metadata": {
        "trusted": true
      },
      "cell_type": "code",
      "source": "df.Cabin.unique()\n\n###commented out because this needs to run only one time and not after the data is prepared, so run this only once and after that comment out\n",
      "execution_count": 86,
      "outputs": []
    },
    {
      "metadata": {
        "trusted": true
      },
      "cell_type": "code",
      "source": "# we are creating a new deck, to put everyone in one NaN into a new deck\\\n\ndef get_deck(cabin):\n    return nm.where(pd.notnull(cabin),str(cabin)[0].upper(),'z')\ndf['Deck']= df['Cabin'].map(lambda x:get_deck(x))",
      "execution_count": 51,
      "outputs": []
    },
    {
      "metadata": {
        "trusted": true
      },
      "cell_type": "code",
      "source": "df.Deck.value_counts()",
      "execution_count": null,
      "outputs": []
    },
    {
      "metadata": {
        "trusted": true
      },
      "cell_type": "code",
      "source": "df.info()",
      "execution_count": null,
      "outputs": []
    },
    {
      "metadata": {
        "trusted": true
      },
      "cell_type": "code",
      "source": "## Data Science most algo will no work on strings or char, so we need to convert them to numerics",
      "execution_count": null,
      "outputs": []
    },
    {
      "metadata": {
        "trusted": true
      },
      "cell_type": "code",
      "source": "## ENCODING",
      "execution_count": null,
      "outputs": []
    },
    {
      "metadata": {
        "trusted": true
      },
      "cell_type": "code",
      "source": "# Binary Encoding( converting something like gender to 0 and 1)",
      "execution_count": null,
      "outputs": []
    },
    {
      "metadata": {
        "trusted": true
      },
      "cell_type": "code",
      "source": "# for multi encoding technique, we use label encoding\n\n# like passengers fare low, medium and high as 1,2 and 3",
      "execution_count": null,
      "outputs": []
    },
    {
      "metadata": {
        "trusted": true
      },
      "cell_type": "code",
      "source": "## ONE HOt ENCODING - used when we the orders dont make sence like not just high low something",
      "execution_count": null,
      "outputs": []
    },
    {
      "metadata": {
        "trusted": true
      },
      "cell_type": "code",
      "source": "# Encoding and making a new column/feature named IsMale\n\n# commented out after the data preparation, because this needs to be executed only once in the starting, if executed again afterwards, this will through error because data was already changed when executed first time\n\ndf['IsMale']=nm.where(df.Sex == 'male',1,0)",
      "execution_count": null,
      "outputs": []
    },
    {
      "metadata": {
        "trusted": true
      },
      "cell_type": "code",
      "source": "# Now using get_dummies function, we are label encoding all the columns together, just write their names, its automated\n\ndf=pd.get_dummies(df,columns=['Deck','Pclass','Embarked'])\n###commented out because this needs to run only one time and not after the data is prepared, so run this only once and after that comment out\n",
      "execution_count": 52,
      "outputs": []
    },
    {
      "metadata": {
        "trusted": true
      },
      "cell_type": "code",
      "source": "df.info()",
      "execution_count": null,
      "outputs": []
    },
    {
      "metadata": {
        "trusted": true
      },
      "cell_type": "code",
      "source": "# now we will remove the columns that are non-numeric",
      "execution_count": null,
      "outputs": []
    },
    {
      "metadata": {
        "trusted": true
      },
      "cell_type": "code",
      "source": "df.drop(['Cabin','Name','Ticket','Parch','SibSp','Sex'], axis=1, inplace=True)\n\n# axis=1 so that drop can work on columns\n\n#inplace= True so that the actual data frame is changed and not a copy of it\n\n###commented out because this needs to run only one time and not after the data is prepared, so run this only once and after that comment out\n",
      "execution_count": null,
      "outputs": []
    },
    {
      "metadata": {
        "trusted": true
      },
      "cell_type": "code",
      "source": "#reordering the columns\ncolumns=[column for column in df.columns if column!='Survived']\ncolumns=['Survived']+columns # adding survived columns infront of the list\ndf=df[columns] #assignin the new rearranged data frame to the original data frame",
      "execution_count": null,
      "outputs": []
    },
    {
      "metadata": {
        "trusted": true
      },
      "cell_type": "code",
      "source": "df.info()",
      "execution_count": null,
      "outputs": []
    },
    {
      "metadata": {
        "trusted": true
      },
      "cell_type": "code",
      "source": "## SAVING THE PROCESSED DATASET\n",
      "execution_count": null,
      "outputs": []
    },
    {
      "metadata": {
        "trusted": true
      },
      "cell_type": "code",
      "source": "## APPLYING MACHINE LEARNING",
      "execution_count": null,
      "outputs": []
    },
    {
      "metadata": {
        "trusted": true
      },
      "cell_type": "code",
      "source": "df.drop(['AgeState'],axis=1, inplace=True)\n",
      "execution_count": null,
      "outputs": []
    },
    {
      "metadata": {
        "trusted": true
      },
      "cell_type": "code",
      "source": "df.drop(['Fare_Bin'],axis=1, inplace=True)\n\n",
      "execution_count": null,
      "outputs": []
    },
    {
      "metadata": {
        "trusted": true
      },
      "cell_type": "code",
      "source": "# Now creating test and training datasets from the df dataframe we refined\n\ndf.loc[df.Survived != -888].to_csv('train.csv')\n\n#removing survived because in test, we dont need survived column, survived is the column we need to predict\ncolumns=[columns for columns in df.columns if columns !='Survived']\n\ndf.loc[df.Survived == -888, columns].to_csv('test.csv')",
      "execution_count": null,
      "outputs": []
    },
    {
      "metadata": {
        "trusted": true
      },
      "cell_type": "code",
      "source": "",
      "execution_count": null,
      "outputs": []
    },
    {
      "metadata": {},
      "cell_type": "markdown",
      "source": "# Start Executing Cells from below after data Preparation"
    },
    {
      "metadata": {
        "trusted": true
      },
      "cell_type": "code",
      "source": "import numpy as nm\nimport pandas as pd\nimport os\n\ntrain_df=pd.read_csv('train.csv', index_col='PassengerId')\ntest_df=pd.read_csv('test.csv', index_col='PassengerId')",
      "execution_count": 16,
      "outputs": []
    },
    {
      "metadata": {
        "trusted": true
      },
      "cell_type": "code",
      "source": "train_df.info()",
      "execution_count": 17,
      "outputs": [
        {
          "output_type": "stream",
          "text": "<class 'pandas.core.frame.DataFrame'>\nInt64Index: 891 entries, 1 to 891\nData columns (total 18 columns):\nSurvived      891 non-null int64\nAge           891 non-null float64\nFare          891 non-null float64\nIsMale        891 non-null int64\nDeck_A        891 non-null int64\nDeck_B        891 non-null int64\nDeck_C        891 non-null int64\nDeck_D        891 non-null int64\nDeck_E        891 non-null int64\nDeck_F        891 non-null int64\nDeck_G        891 non-null int64\nDeck_z        891 non-null int64\nPclass_1      891 non-null int64\nPclass_2      891 non-null int64\nPclass_3      891 non-null int64\nEmbarked_C    891 non-null int64\nEmbarked_Q    891 non-null int64\nEmbarked_S    891 non-null int64\ndtypes: float64(2), int64(16)\nmemory usage: 132.3 KB\n",
          "name": "stdout"
        }
      ]
    },
    {
      "metadata": {
        "trusted": true
      },
      "cell_type": "code",
      "source": "test_df.info()",
      "execution_count": 18,
      "outputs": [
        {
          "output_type": "stream",
          "text": "<class 'pandas.core.frame.DataFrame'>\nInt64Index: 418 entries, 892 to 1309\nData columns (total 17 columns):\nAge           418 non-null float64\nFare          418 non-null float64\nIsMale        418 non-null int64\nDeck_A        418 non-null int64\nDeck_B        418 non-null int64\nDeck_C        418 non-null int64\nDeck_D        418 non-null int64\nDeck_E        418 non-null int64\nDeck_F        418 non-null int64\nDeck_G        418 non-null int64\nDeck_z        418 non-null int64\nPclass_1      418 non-null int64\nPclass_2      418 non-null int64\nPclass_3      418 non-null int64\nEmbarked_C    418 non-null int64\nEmbarked_Q    418 non-null int64\nEmbarked_S    418 non-null int64\ndtypes: float64(2), int64(15)\nmemory usage: 58.8 KB\n",
          "name": "stdout"
        }
      ]
    },
    {
      "metadata": {
        "trusted": true
      },
      "cell_type": "markdown",
      "source": "  ## Data Preparation"
    },
    {
      "metadata": {
        "trusted": true
      },
      "cell_type": "code",
      "source": "train_df.info\n",
      "execution_count": 19,
      "outputs": [
        {
          "output_type": "execute_result",
          "execution_count": 19,
          "data": {
            "text/plain": "<bound method DataFrame.info of              Survived        Age      Fare  IsMale  Deck_A  Deck_B  Deck_C  \\\nPassengerId                                                                  \n1                   0  22.000000    7.2500       1       0       0       0   \n2                   1  38.000000   71.2833       0       0       0       1   \n3                   1  26.000000    7.9250       0       0       0       0   \n4                   1  35.000000   53.1000       0       0       0       1   \n5                   0  35.000000    8.0500       1       0       0       0   \n6                   0  29.881138    8.4583       1       0       0       0   \n7                   0  54.000000   51.8625       1       0       0       0   \n8                   0   2.000000   21.0750       1       0       0       0   \n9                   1  27.000000   11.1333       0       0       0       0   \n10                  1  14.000000   30.0708       0       0       0       0   \n11                  1   4.000000   16.7000       0       0       0       0   \n12                  1  58.000000   26.5500       0       0       0       1   \n13                  0  20.000000    8.0500       1       0       0       0   \n14                  0  39.000000   31.2750       1       0       0       0   \n15                  0  14.000000    7.8542       0       0       0       0   \n16                  1  55.000000   16.0000       0       0       0       0   \n17                  0   2.000000   29.1250       1       0       0       0   \n18                  1  29.881138   13.0000       1       0       0       0   \n19                  0  31.000000   18.0000       0       0       0       0   \n20                  1  29.881138    7.2250       0       0       0       0   \n21                  0  35.000000   26.0000       1       0       0       0   \n22                  1  34.000000   13.0000       1       0       0       0   \n23                  1  15.000000    8.0292       0       0       0       0   \n24                  1  28.000000   35.5000       1       1       0       0   \n25                  0   8.000000   21.0750       0       0       0       0   \n26                  1  38.000000   31.3875       0       0       0       0   \n27                  0  29.881138    7.2250       1       0       0       0   \n28                  0  19.000000  263.0000       1       0       0       1   \n29                  1  29.881138    7.8792       0       0       0       0   \n30                  0  29.881138    7.8958       1       0       0       0   \n...               ...        ...       ...     ...     ...     ...     ...   \n862                 0  21.000000   11.5000       1       0       0       0   \n863                 1  48.000000   25.9292       0       0       0       0   \n864                 0  29.881138   69.5500       0       0       0       0   \n865                 0  24.000000   13.0000       1       0       0       0   \n866                 1  42.000000   13.0000       0       0       0       0   \n867                 1  27.000000   13.8583       0       0       0       0   \n868                 0  31.000000   50.4958       1       1       0       0   \n869                 0  29.881138    9.5000       1       0       0       0   \n870                 1   4.000000   11.1333       1       0       0       0   \n871                 0  26.000000    7.8958       1       0       0       0   \n872                 1  47.000000   52.5542       0       0       0       0   \n873                 0  33.000000    5.0000       1       0       1       0   \n874                 0  47.000000    9.0000       1       0       0       0   \n875                 1  28.000000   24.0000       0       0       0       0   \n876                 1  15.000000    7.2250       0       0       0       0   \n877                 0  20.000000    9.8458       1       0       0       0   \n878                 0  19.000000    7.8958       1       0       0       0   \n879                 0  29.881138    7.8958       1       0       0       0   \n880                 1  56.000000   83.1583       0       0       0       1   \n881                 1  25.000000   26.0000       0       0       0       0   \n882                 0  33.000000    7.8958       1       0       0       0   \n883                 0  22.000000   10.5167       0       0       0       0   \n884                 0  28.000000   10.5000       1       0       0       0   \n885                 0  25.000000    7.0500       1       0       0       0   \n886                 0  39.000000   29.1250       0       0       0       0   \n887                 0  27.000000   13.0000       1       0       0       0   \n888                 1  19.000000   30.0000       0       0       1       0   \n889                 0  29.881138   23.4500       0       0       0       0   \n890                 1  26.000000   30.0000       1       0       0       1   \n891                 0  32.000000    7.7500       1       0       0       0   \n\n             Deck_D  Deck_E  Deck_F  Deck_G  Deck_z  Pclass_1  Pclass_2  \\\nPassengerId                                                               \n1                 0       0       0       0       1         0         0   \n2                 0       0       0       0       0         1         0   \n3                 0       0       0       0       1         0         0   \n4                 0       0       0       0       0         1         0   \n5                 0       0       0       0       1         0         0   \n6                 0       0       0       0       1         0         0   \n7                 0       1       0       0       0         1         0   \n8                 0       0       0       0       1         0         0   \n9                 0       0       0       0       1         0         0   \n10                0       0       0       0       1         0         1   \n11                0       0       0       1       0         0         0   \n12                0       0       0       0       0         1         0   \n13                0       0       0       0       1         0         0   \n14                0       0       0       0       1         0         0   \n15                0       0       0       0       1         0         0   \n16                0       0       0       0       1         0         1   \n17                0       0       0       0       1         0         0   \n18                0       0       0       0       1         0         1   \n19                0       0       0       0       1         0         0   \n20                0       0       0       0       1         0         0   \n21                0       0       0       0       1         0         1   \n22                1       0       0       0       0         0         1   \n23                0       0       0       0       1         0         0   \n24                0       0       0       0       0         1         0   \n25                0       0       0       0       1         0         0   \n26                0       0       0       0       1         0         0   \n27                0       0       0       0       1         0         0   \n28                0       0       0       0       0         1         0   \n29                0       0       0       0       1         0         0   \n30                0       0       0       0       1         0         0   \n...             ...     ...     ...     ...     ...       ...       ...   \n862               0       0       0       0       1         0         1   \n863               1       0       0       0       0         1         0   \n864               0       0       0       0       1         0         0   \n865               0       0       0       0       1         0         1   \n866               0       0       0       0       1         0         1   \n867               0       0       0       0       1         0         1   \n868               0       0       0       0       0         1         0   \n869               0       0       0       0       1         0         0   \n870               0       0       0       0       1         0         0   \n871               0       0       0       0       1         0         0   \n872               1       0       0       0       0         1         0   \n873               0       0       0       0       0         1         0   \n874               0       0       0       0       1         0         0   \n875               0       0       0       0       1         0         1   \n876               0       0       0       0       1         0         0   \n877               0       0       0       0       1         0         0   \n878               0       0       0       0       1         0         0   \n879               0       0       0       0       1         0         0   \n880               0       0       0       0       0         1         0   \n881               0       0       0       0       1         0         1   \n882               0       0       0       0       1         0         0   \n883               0       0       0       0       1         0         0   \n884               0       0       0       0       1         0         1   \n885               0       0       0       0       1         0         0   \n886               0       0       0       0       1         0         0   \n887               0       0       0       0       1         0         1   \n888               0       0       0       0       0         1         0   \n889               0       0       0       0       1         0         0   \n890               0       0       0       0       0         1         0   \n891               0       0       0       0       1         0         0   \n\n             Pclass_3  Embarked_C  Embarked_Q  Embarked_S  \nPassengerId                                                \n1                   1           0           0           1  \n2                   0           1           0           0  \n3                   1           0           0           1  \n4                   0           0           0           1  \n5                   1           0           0           1  \n6                   1           0           1           0  \n7                   0           0           0           1  \n8                   1           0           0           1  \n9                   1           0           0           1  \n10                  0           1           0           0  \n11                  1           0           0           1  \n12                  0           0           0           1  \n13                  1           0           0           1  \n14                  1           0           0           1  \n15                  1           0           0           1  \n16                  0           0           0           1  \n17                  1           0           1           0  \n18                  0           0           0           1  \n19                  1           0           0           1  \n20                  1           1           0           0  \n21                  0           0           0           1  \n22                  0           0           0           1  \n23                  1           0           1           0  \n24                  0           0           0           1  \n25                  1           0           0           1  \n26                  1           0           0           1  \n27                  1           1           0           0  \n28                  0           0           0           1  \n29                  1           0           1           0  \n30                  1           0           0           1  \n...               ...         ...         ...         ...  \n862                 0           0           0           1  \n863                 0           0           0           1  \n864                 1           0           0           1  \n865                 0           0           0           1  \n866                 0           0           0           1  \n867                 0           1           0           0  \n868                 0           0           0           1  \n869                 1           0           0           1  \n870                 1           0           0           1  \n871                 1           0           0           1  \n872                 0           0           0           1  \n873                 0           0           0           1  \n874                 1           0           0           1  \n875                 0           1           0           0  \n876                 1           1           0           0  \n877                 1           0           0           1  \n878                 1           0           0           1  \n879                 1           0           0           1  \n880                 0           1           0           0  \n881                 0           0           0           1  \n882                 1           0           0           1  \n883                 1           0           0           1  \n884                 0           0           0           1  \n885                 1           0           0           1  \n886                 1           0           1           0  \n887                 0           0           0           1  \n888                 0           0           0           1  \n889                 1           0           0           1  \n890                 0           1           0           0  \n891                 1           0           1           0  \n\n[891 rows x 18 columns]>"
          },
          "metadata": {}
        }
      ]
    },
    {
      "metadata": {
        "trusted": true
      },
      "cell_type": "code",
      "source": "train_df.drop(['Fare_Bin','Age_State'], inplace=True)",
      "execution_count": 74,
      "outputs": []
    },
    {
      "metadata": {
        "trusted": true
      },
      "cell_type": "code",
      "source": "X=train_df.loc[:,'Age':].as_matrix().astype('float')\n\n# here we are taking everything and changing to a matrix of float from Age, hence excluding Survived, see train_df.info() above\n# X is a matrix of float values as input\n# X is basically all columns except the output or result or here survived column",
      "execution_count": 21,
      "outputs": [
        {
          "output_type": "stream",
          "text": "/home/nbuser/anaconda2_501/lib/python2.7/site-packages/ipykernel/__main__.py:1: FutureWarning: Method .as_matrix will be removed in a future version. Use .values instead.\n  if __name__ == '__main__':\n",
          "name": "stderr"
        }
      ]
    },
    {
      "metadata": {
        "trusted": true
      },
      "cell_type": "code",
      "source": "y=train_df['Survived'].ravel()\n\n#y is output. ravel will give a 1D array \n\n#Y is our result containing column, y has the info whether someone survived or not\n\n# when we are training, we send X and y both to train with respect to results,\n# and in test, y is used to cross check how many of them we got correct which gives our score",
      "execution_count": 22,
      "outputs": []
    },
    {
      "metadata": {
        "trusted": true
      },
      "cell_type": "code",
      "source": "print X.shape, y.shape",
      "execution_count": 23,
      "outputs": [
        {
          "output_type": "stream",
          "text": "(891, 17) (891,)\n",
          "name": "stdout"
        }
      ]
    },
    {
      "metadata": {
        "trusted": true
      },
      "cell_type": "code",
      "source": "",
      "execution_count": null,
      "outputs": []
    },
    {
      "metadata": {
        "trusted": true
      },
      "cell_type": "markdown",
      "source": "## train test split"
    },
    {
      "metadata": {
        "trusted": true
      },
      "cell_type": "code",
      "source": "from sklearn.model_selection import train_test_split\n\nX_train, X_test, y_train, y_test=train_test_split(X,y,test_size=0.2,random_state=0)\n\nprint X_train.shape, y_train.shape\n\nprint X_test.shape, y_test.shape",
      "execution_count": 24,
      "outputs": [
        {
          "output_type": "stream",
          "text": "(712, 17) (712,)\n(179, 17) (179,)\n",
          "name": "stdout"
        }
      ]
    },
    {
      "metadata": {
        "trusted": true
      },
      "cell_type": "code",
      "source": "# PRINTING AVERAGE SURVIVAL IN TRAINA AND TEST\n\n# this output will be positive cases ie the people who survived\n# we want the two results to be nearly same, so that we know that both test and train are similar in nature \n\nprint 'Mean survival in train : {0:.3f}'.format(nm.mean(y_train))\n\nprint 'Mean survival in test : {0:.3f}'.format(nm.mean(y_test))",
      "execution_count": 25,
      "outputs": [
        {
          "output_type": "stream",
          "text": "Mean survival in train : 0.383\nMean survival in test : 0.385\n",
          "name": "stdout"
        }
      ]
    },
    {
      "metadata": {
        "trusted": true
      },
      "cell_type": "markdown",
      "source": "## Baseline Model"
    },
    {
      "metadata": {
        "trusted": true
      },
      "cell_type": "code",
      "source": "# SEE THE BASELINE MODEL IN NEXT NOTEBOOK",
      "execution_count": 26,
      "outputs": []
    },
    {
      "metadata": {
        "trusted": true
      },
      "cell_type": "code",
      "source": "from sklearn.dummy import DummyClassifier",
      "execution_count": 27,
      "outputs": []
    },
    {
      "metadata": {
        "trusted": true
      },
      "cell_type": "code",
      "source": "model_dummy= DummyClassifier(strategy='most_frequent', random_state=0)",
      "execution_count": 28,
      "outputs": []
    },
    {
      "metadata": {
        "trusted": true
      },
      "cell_type": "code",
      "source": "model_dummy.fit(X_train,y_train)\n\n#giving inputs to the dummy algo or the baseline algo",
      "execution_count": 29,
      "outputs": [
        {
          "output_type": "execute_result",
          "execution_count": 29,
          "data": {
            "text/plain": "DummyClassifier(constant=None, random_state=0, strategy='most_frequent')"
          },
          "metadata": {}
        }
      ]
    },
    {
      "metadata": {
        "trusted": true
      },
      "cell_type": "code",
      "source": "print 'Score for baseline model : {0: .2f}'.format(model_dummy.score(X_test, y_test))\n\n# in this the model will first get a prediction as output from dummy model or baseline model\n# all these outputs will then be compared to the y_test which the actual result, hence will give as an idea as to how accurately the algo is predicting by comparing the predicted o/p to the actual values\n\n#as the answer is 0.61, this means that 61% of times the baseline models predicts right\n\n# so without using ML, we are still getting .61 accuracy just by classification for predicitng survival or death",
      "execution_count": 30,
      "outputs": [
        {
          "output_type": "stream",
          "text": "Score for baseline model :  0.61\n",
          "name": "stdout"
        }
      ]
    },
    {
      "metadata": {
        "trusted": true
      },
      "cell_type": "code",
      "source": "# now making a performance matrix so that we can compare the scores of baseline with other algos such as regression",
      "execution_count": 31,
      "outputs": []
    },
    {
      "metadata": {
        "trusted": true
      },
      "cell_type": "code",
      "source": "from sklearn.metrics import accuracy_score, confusion_matrix, precision_score, recall_score\n\n# all these are different kinds of performance matrixes ",
      "execution_count": 32,
      "outputs": []
    },
    {
      "metadata": {
        "trusted": true
      },
      "cell_type": "code",
      "source": "# accuracy score\n\nprint 'accuracy for baseline model : {0: .2f}'.format(accuracy_score(y_test, model_dummy.predict(X_test)))\n\n# this output will give us the accuracy score of the baseline function\n\n# we have sent y_test is the actual result and model_dummy.predict(X_test) will send its predicted output\\\n# these both together will be compared to eachother and then accuracy will be shown",
      "execution_count": 33,
      "outputs": [
        {
          "output_type": "stream",
          "text": "accuracy for baseline model :  0.61\n",
          "name": "stdout"
        }
      ]
    },
    {
      "metadata": {
        "trusted": true
      },
      "cell_type": "code",
      "source": "# now showing the confusion matrix, the parameters is same for all the performance matrix\n\nprint 'confusion matrix for baseline model : \\n {0}'.format(confusion_matrix(y_test,model_dummy.predict(X_test)))",
      "execution_count": 34,
      "outputs": [
        {
          "output_type": "stream",
          "text": "confusion matrix for baseline model : \n [[110   0]\n [ 69   0]]\n",
          "name": "stdout"
        }
      ]
    },
    {
      "metadata": {
        "trusted": true
      },
      "cell_type": "code",
      "source": "",
      "execution_count": null,
      "outputs": []
    },
    {
      "metadata": {
        "trusted": true
      },
      "cell_type": "code",
      "source": "# precision and recall scores\n\nprint 'precision score for baseline model : \\n {0}'.format(precision_score(y_test,model_dummy.predict(X_test)))\n\nprint 'recall score for baseline model : \\n {0}'.format(recall_score(y_test,model_dummy.predict(X_test)))\n\n# the warning is fine. Zero will answer to both",
      "execution_count": 35,
      "outputs": [
        {
          "output_type": "stream",
          "text": "precision score for baseline model : \n 0.0\nrecall score for baseline model : \n 0.0\n",
          "name": "stdout"
        },
        {
          "output_type": "stream",
          "text": "/home/nbuser/anaconda2_501/lib/python2.7/site-packages/sklearn/metrics/classification.py:1135: UndefinedMetricWarning: Precision is ill-defined and being set to 0.0 due to no predicted samples.\n  'precision', 'predicted', average, warn_for)\n",
          "name": "stderr"
        }
      ]
    },
    {
      "metadata": {
        "trusted": true
      },
      "cell_type": "markdown",
      "source": "## Storing the output ie predicted values on a csv file( for submission or just reference)"
    },
    {
      "metadata": {
        "trusted": true
      },
      "cell_type": "code",
      "source": "test_X= test_df.as_matrix().astype('float')\n\n# test_df is the dataframe for which we dont have answers\n\n# we will use baseline model to predict, so first we are converting it to matrix|",
      "execution_count": 36,
      "outputs": [
        {
          "output_type": "stream",
          "text": "/home/nbuser/anaconda2_501/lib/python2.7/site-packages/ipykernel/__main__.py:1: FutureWarning: Method .as_matrix will be removed in a future version. Use .values instead.\n  if __name__ == '__main__':\n",
          "name": "stderr"
        }
      ]
    },
    {
      "metadata": {
        "trusted": true
      },
      "cell_type": "code",
      "source": "# getting the predictions\n# predictions will get the predicted values from dummy algo ie baseline model\n\npredictions=model_dummy.predict(test_X)",
      "execution_count": 37,
      "outputs": []
    },
    {
      "metadata": {
        "trusted": true
      },
      "cell_type": "code",
      "source": "#now making a data frame that we will save/submit\n# we are using passengerID as index and their predicted value\n# so will have a file that will show whether that passenger ID person is dead or alive using prediction\n\n# remember this is prediction from baseline model. It can be wrong\n\ndf_submissions=pd.DataFrame({'PassengerID': test_df.index,'Survived': predictions})",
      "execution_count": 38,
      "outputs": []
    },
    {
      "metadata": {
        "trusted": true
      },
      "cell_type": "code",
      "source": "df_submissions.head()\n\n# showing the dataframe of predicted values that we created",
      "execution_count": 39,
      "outputs": [
        {
          "output_type": "execute_result",
          "execution_count": 39,
          "data": {
            "text/plain": "   PassengerID  Survived\n0          892         0\n1          893         0\n2          894         0\n3          895         0\n4          896         0",
            "text/html": "<div>\n<style scoped>\n    .dataframe tbody tr th:only-of-type {\n        vertical-align: middle;\n    }\n\n    .dataframe tbody tr th {\n        vertical-align: top;\n    }\n\n    .dataframe thead th {\n        text-align: right;\n    }\n</style>\n<table border=\"1\" class=\"dataframe\">\n  <thead>\n    <tr style=\"text-align: right;\">\n      <th></th>\n      <th>PassengerID</th>\n      <th>Survived</th>\n    </tr>\n  </thead>\n  <tbody>\n    <tr>\n      <th>0</th>\n      <td>892</td>\n      <td>0</td>\n    </tr>\n    <tr>\n      <th>1</th>\n      <td>893</td>\n      <td>0</td>\n    </tr>\n    <tr>\n      <th>2</th>\n      <td>894</td>\n      <td>0</td>\n    </tr>\n    <tr>\n      <th>3</th>\n      <td>895</td>\n      <td>0</td>\n    </tr>\n    <tr>\n      <th>4</th>\n      <td>896</td>\n      <td>0</td>\n    </tr>\n  </tbody>\n</table>\n</div>"
          },
          "metadata": {}
        }
      ]
    },
    {
      "metadata": {
        "trusted": true
      },
      "cell_type": "code",
      "source": "df_submissions.to_csv('01_dummy.csv', index=False)\n\n#we are setting index=False so that no other columns is formed separately for the index\n\n# we can check after executing this line that a new file named 01_dummy.csv is created in the parent folder",
      "execution_count": 40,
      "outputs": []
    },
    {
      "metadata": {
        "trusted": true
      },
      "cell_type": "code",
      "source": "# we can also make a function as below to write the outputs of all the different algos we use\n\n# because the steps to write output from an algo is always the same\n\ndef get_submission_file(model, filename):\n    #converting to matrix\n    test_X=test_df.as_matrix().astype('float')\n    #make predicitons\n    predictions =model.predict(test_X)\n    #submission file\n    df_submission =pd.DataFrame({'PassengerId': test_df.index, 'Survived':predictions})\n    \n    df_submission.to_csv(filename, index=False)\n    ",
      "execution_count": 41,
      "outputs": []
    },
    {
      "metadata": {
        "trusted": true
      },
      "cell_type": "code",
      "source": "get_submission_file(model_dummy, '001_dummy.csv')\n\n# we have just sent the model name and ouput file name to make a new output file",
      "execution_count": 42,
      "outputs": [
        {
          "output_type": "stream",
          "text": "/home/nbuser/anaconda2_501/lib/python2.7/site-packages/ipykernel/__main__.py:7: FutureWarning: Method .as_matrix will be removed in a future version. Use .values instead.\n",
          "name": "stderr"
        }
      ]
    },
    {
      "metadata": {
        "trusted": true
      },
      "cell_type": "code",
      "source": "",
      "execution_count": null,
      "outputs": []
    },
    {
      "metadata": {
        "trusted": true
      },
      "cell_type": "markdown",
      "source": "# Logistic Regression Model"
    },
    {
      "metadata": {
        "trusted": true
      },
      "cell_type": "code",
      "source": "from sklearn.linear_model import LogisticRegression",
      "execution_count": 43,
      "outputs": []
    },
    {
      "metadata": {
        "trusted": true
      },
      "cell_type": "code",
      "source": "#creating a model object\n\nmodel_lr_1=LogisticRegression(random_state=0)",
      "execution_count": 44,
      "outputs": []
    },
    {
      "metadata": {
        "trusted": true
      },
      "cell_type": "code",
      "source": "#training the model\n\nmodel_lr_1.fit(X_train, y_train)\n\n# we can see a big message after this is run saying c=1 and various other things\n\n#these are various regularization features, we can change these values to get better results\n\n# we'll explore them after few steps under regularization steps",
      "execution_count": 45,
      "outputs": [
        {
          "output_type": "execute_result",
          "execution_count": 45,
          "data": {
            "text/plain": "LogisticRegression(C=1.0, class_weight=None, dual=False, fit_intercept=True,\n          intercept_scaling=1, max_iter=100, multi_class='ovr', n_jobs=1,\n          penalty='l2', random_state=0, solver='liblinear', tol=0.0001,\n          verbose=0, warm_start=False)"
          },
          "metadata": {}
        }
      ]
    },
    {
      "metadata": {
        "trusted": true
      },
      "cell_type": "code",
      "source": "# getting the model score on the test data\n# we'll get a score higher than the baseline model, so LR is atleast better than baseline\n\nprint 'score for logistic regression v 1 : {0:.2f}'.format(model_lr_1.score(X_test,y_test))",
      "execution_count": 46,
      "outputs": [
        {
          "output_type": "stream",
          "text": "score for logistic regression v 1 : 0.81\n",
          "name": "stdout"
        }
      ]
    },
    {
      "metadata": {
        "trusted": true
      },
      "cell_type": "code",
      "source": "print 'accuracy for LR model : {0: .2f}'.format(accuracy_score(y_test, model_lr_1.predict(X_test)))\n\nprint 'confusion matrix for LR model : \\n {0}'.format(confusion_matrix(y_test,model_lr_1.predict(X_test)))\n\nprint 'precision score for LR model : \\n {0}'.format(precision_score(y_test,model_lr_1.predict(X_test)))\n\nprint 'recall score for LR model : \\n {0}'.format(recall_score(y_test,model_lr_1.predict(X_test)))\n\n\n#We can see that everything improved from baseline model",
      "execution_count": 47,
      "outputs": [
        {
          "output_type": "stream",
          "text": "accuracy for LR model :  0.81\nconfusion matrix for LR model : \n [[95 15]\n [19 50]]\nprecision score for LR model : \n 0.769230769231\nrecall score for LR model : \n 0.724637681159\n",
          "name": "stdout"
        }
      ]
    },
    {
      "metadata": {
        "trusted": true
      },
      "cell_type": "code",
      "source": "# Model Cofficients\n\n# these are the values on coffecients of the regression line of u=mx+c so we get these cofficients\n\n#also called model weights or model parameters, these values define how much a perticular column/feature is affecting the predcition\n\nmodel_lr_1.coef_",
      "execution_count": 48,
      "outputs": [
        {
          "output_type": "execute_result",
          "execution_count": 48,
          "data": {
            "text/plain": "array([[-3.40946106e-02,  1.69659272e-03, -2.35816697e+00,\n         2.53681326e-01,  8.83295630e-02, -3.81642345e-01,\n         4.15549039e-01,  1.14475654e+00,  4.78454407e-01,\n        -1.06125594e-01, -3.45796908e-01,  1.18314023e+00,\n         7.50627887e-01, -3.86562083e-01,  6.21674744e-01,\n         7.71763571e-01,  1.53767716e-01]])"
          },
          "metadata": {}
        }
      ]
    },
    {
      "metadata": {
        "trusted": true
      },
      "cell_type": "markdown",
      "source": "## Regularization"
    },
    {
      "metadata": {
        "trusted": true
      },
      "cell_type": "code",
      "source": "# LogisticRegression(C=1.0, class_weight=None, dual=False, fit_intercept=True,\n#          intercept_scaling=1, max_iter=100, multi_class='ovr', n_jobs=1,\n#          penalty='l2', random_state=0, solver='liblinear', tol=0.0001,\n#          verbose=0, warm_start=False)\n\n\n# Logistic regression has a lot of parameters that we can change and get better results\n# above is the output after we run LR, it shows all the parameters set\n\n# these are basically like Nobs, increasing and decreacing these has a affect on the output accuracy or score\n\n# These are also called hyperparameter and techniques to optimize these hyperparameters is called \"Hyper Parameter Optimization\"\n\n# one such Hyperparameter optimization is 'grid search'",
      "execution_count": 49,
      "outputs": []
    },
    {
      "metadata": {},
      "cell_type": "markdown",
      "source": "### Grid Search (Hyperparameter Optimization technique)"
    },
    {
      "metadata": {
        "trusted": true
      },
      "cell_type": "code",
      "source": "model_lr=LogisticRegression(random_state=0)",
      "execution_count": 50,
      "outputs": []
    },
    {
      "metadata": {
        "trusted": true
      },
      "cell_type": "code",
      "source": "from sklearn.model_selection import GridSearchCV\n\n#using gridsearchcv function for hyperparameter optimization",
      "execution_count": 51,
      "outputs": []
    },
    {
      "metadata": {
        "trusted": true
      },
      "cell_type": "code",
      "source": "parameters = {'C':[1.0,10.0,50,100,1000], 'penalty' : ['l1','l2']}\n\n# we are creatign a parameter dictionary to try during the grid operation\n\n# so we are trying 1.0, 10.0 are various other numbers for C and similarly L1 and L2 for penalty \n\nclf=GridSearchCV(model_lr,param_grid=parameters, cv=3)\n\n#first we mentioned the algo name on which we will be applying the optimization\n\n# param_grid will have all the different parameters that we want to try \n\n#cv=3 means perform 3 fold cross validation\n\n#clf is grid search object\n\n# clf is the object of the hyperparametatized logistic regression\n\n# so clf is like the optimized LR model with best parameters in it\n\n# becasue GridsearchCV will return a LR model with parameters set to the most optimized values\n",
      "execution_count": 52,
      "outputs": []
    },
    {
      "metadata": {
        "trusted": true
      },
      "cell_type": "code",
      "source": "clf.fit(X_train, y_train)\n\n#now here we are passing the training data into the grid search object\n\n#the object when it was created above, we already sent the algo name,so in this line we dont need to mention the algo name that is regression, the object knows it\n\n#so we only have to send the trianing and test data",
      "execution_count": 53,
      "outputs": [
        {
          "output_type": "execute_result",
          "execution_count": 53,
          "data": {
            "text/plain": "GridSearchCV(cv=3, error_score='raise',\n       estimator=LogisticRegression(C=1.0, class_weight=None, dual=False, fit_intercept=True,\n          intercept_scaling=1, max_iter=100, multi_class='ovr', n_jobs=1,\n          penalty='l2', random_state=0, solver='liblinear', tol=0.0001,\n          verbose=0, warm_start=False),\n       fit_params=None, iid=True, n_jobs=1,\n       param_grid={'penalty': ['l1', 'l2'], 'C': [1.0, 10.0, 50, 100, 1000]},\n       pre_dispatch='2*n_jobs', refit=True, return_train_score='warn',\n       scoring=None, verbose=0)"
          },
          "metadata": {}
        }
      ]
    },
    {
      "metadata": {
        "trusted": true
      },
      "cell_type": "code",
      "source": "clf.best_params_\n\n#best_params is a function which will give us the best and optimized values of C, so we are getting C=1 and L1 as most optimized hyperparameters",
      "execution_count": 54,
      "outputs": [
        {
          "output_type": "execute_result",
          "execution_count": 54,
          "data": {
            "text/plain": "{'C': 1.0, 'penalty': 'l1'}"
          },
          "metadata": {}
        }
      ]
    },
    {
      "metadata": {
        "trusted": true
      },
      "cell_type": "code",
      "source": "print 'best score :{0:.2f}'.format(clf.best_score_)\n\n#no significant difference observed, most advanced algo we get improvements",
      "execution_count": 55,
      "outputs": [
        {
          "output_type": "stream",
          "text": "best score :0.80\n",
          "name": "stdout"
        }
      ]
    },
    {
      "metadata": {
        "trusted": true
      },
      "cell_type": "code",
      "source": "#evalute model\n\nprint 'score for Logistic Regression version : {0:.2f}'.format(clf.score(X_test,y_test))",
      "execution_count": 56,
      "outputs": [
        {
          "output_type": "stream",
          "text": "score for Logistic Regression version : 0.81\n",
          "name": "stdout"
        }
      ]
    },
    {
      "metadata": {
        "trusted": true
      },
      "cell_type": "code",
      "source": "",
      "execution_count": null,
      "outputs": []
    },
    {
      "metadata": {},
      "cell_type": "markdown",
      "source": "## Feature Normalization"
    },
    {
      "metadata": {
        "trusted": true
      },
      "cell_type": "code",
      "source": " from sklearn.preprocessing import MinMaxScaler, StandardScaler\n    ",
      "execution_count": 57,
      "outputs": []
    },
    {
      "metadata": {
        "trusted": true
      },
      "cell_type": "code",
      "source": "#feature normalization\n\nscaler=MinMaxScaler()\n\nX_train_scaled=scaler.fit_transform(X_train)\n\n# this line is working in two parts, first part is sending X_train to fit_transform, this will fit the scaler and transform the scaled output ",
      "execution_count": 58,
      "outputs": []
    },
    {
      "metadata": {
        "trusted": true
      },
      "cell_type": "code",
      "source": "X_train_scaled[:,0].min(),X_train_scaled[:,0].max()\n\n# this is givnig the minimum and maximum values of the scaled values",
      "execution_count": 59,
      "outputs": [
        {
          "output_type": "execute_result",
          "execution_count": 59,
          "data": {
            "text/plain": "(0.0, 1.0)"
          },
          "metadata": {}
        }
      ]
    },
    {
      "metadata": {
        "trusted": true
      },
      "cell_type": "code",
      "source": "#normalization test data\n# this is scaling the tst data also\nX_test_scaled=scaler.transform(X_test)",
      "execution_count": 60,
      "outputs": []
    },
    {
      "metadata": {},
      "cell_type": "markdown",
      "source": "## feature standardization"
    },
    {
      "metadata": {
        "trusted": true
      },
      "cell_type": "code",
      "source": "scaler=StandardScaler()\n\nX_train_scaled=scaler.fit_transform(X_train)\nX_test_scaled=scaler.transform(X_test)",
      "execution_count": 61,
      "outputs": []
    },
    {
      "metadata": {
        "trusted": true
      },
      "cell_type": "code",
      "source": "model_lr=LogisticRegression(random_state=0)\nparameters={'C':[1.0,10.0,50.0,100.0,1000.0],'penalty':['l1','l2']}\n\nclf=GridSearchCV(model_lr, param_grid=parameters,cv=3)\nclf.fit(X_train,y_train)",
      "execution_count": 62,
      "outputs": [
        {
          "output_type": "execute_result",
          "execution_count": 62,
          "data": {
            "text/plain": "GridSearchCV(cv=3, error_score='raise',\n       estimator=LogisticRegression(C=1.0, class_weight=None, dual=False, fit_intercept=True,\n          intercept_scaling=1, max_iter=100, multi_class='ovr', n_jobs=1,\n          penalty='l2', random_state=0, solver='liblinear', tol=0.0001,\n          verbose=0, warm_start=False),\n       fit_params=None, iid=True, n_jobs=1,\n       param_grid={'penalty': ['l1', 'l2'], 'C': [1.0, 10.0, 50.0, 100.0, 1000.0]},\n       pre_dispatch='2*n_jobs', refit=True, return_train_score='warn',\n       scoring=None, verbose=0)"
          },
          "metadata": {}
        }
      ]
    },
    {
      "metadata": {
        "trusted": true
      },
      "cell_type": "code",
      "source": "clf.best_score_",
      "execution_count": 63,
      "outputs": [
        {
          "output_type": "execute_result",
          "execution_count": 63,
          "data": {
            "text/plain": "0.7963483146067416"
          },
          "metadata": {}
        }
      ]
    },
    {
      "metadata": {
        "trusted": true
      },
      "cell_type": "code",
      "source": "#evaluation model\n\nprint 'score for logistic regression - v2 : {0:.2f}'.format(clf.score(X_test_scaled, y_test))\n\n# we can see that their is no imporvement with feature standardiaztion\n\n# this happens because standardized features dont have good affect on  LR due to some techincal reasons\n\n#but still we apply to see if we get any improvement",
      "execution_count": 64,
      "outputs": [
        {
          "output_type": "stream",
          "text": "score for logistic regression - v2 : 0.68\n",
          "name": "stdout"
        }
      ]
    },
    {
      "metadata": {},
      "cell_type": "markdown",
      "source": "## Model persistence\n\n### Our work on LR is done, now we are trying to save the model so that we can directly use this model, hence we are saving the model, this is called model persistence"
    },
    {
      "metadata": {
        "trusted": true
      },
      "cell_type": "code",
      "source": "import pickle",
      "execution_count": 65,
      "outputs": []
    },
    {
      "metadata": {
        "trusted": true
      },
      "cell_type": "code",
      "source": "#creating a file and opening it in write mode\n\n\nmodel_file_pickle=open('lr_model.pkl','wb')\nscaler_file_pickle=open('scaler_model.pkl','wb')\n\n# we need scaler model to save the standardized scalers we created in the over standarization\n# so we created scaler_model.pkl also\n\n# wb stands for writting in binary mode\n",
      "execution_count": 79,
      "outputs": []
    },
    {
      "metadata": {
        "trusted": true
      },
      "cell_type": "code",
      "source": "\npickle.dump(clf, model_file_pickle)\npickle.dump(scaler, scaler_file_pickle)\n\n# model_file_pickle is the object name of the file\n\n# clf is the object of the hyperparametatized logistic regression\n\n# that is ... clf=GridSearchCV(model_lr,param_grid=parameters, cv=3)\n\n# so clf is like the optimized LR model with best parameters in it\n\n# becasue grid search CV will return a LR model with parameters set to the most optimized values\n\n\n\n# dump function in used to write the model and scalar objects ",
      "execution_count": 80,
      "outputs": []
    },
    {
      "metadata": {
        "trusted": true
      },
      "cell_type": "code",
      "source": "model_file_pickle.close()\nscaler_file_pickle.close()",
      "execution_count": 81,
      "outputs": []
    },
    {
      "metadata": {},
      "cell_type": "markdown",
      "source": "### Loading the persistent file"
    },
    {
      "metadata": {
        "trusted": true
      },
      "cell_type": "code",
      "source": "# now opening persisted files as read\n\n\nmodel_file_pickle=open('lr_model.pkl','r')\nscaler_file_pickle=open('scaler_model.pkl', 'r')\n\n#load files\n\nclf_loaded=pickle.load(model_file_pickle)\n\nscaler_loaded=pickle.load(scaler_file_pickle)\n\n#close files\n\nmodel_file_pickle.close()\nscaler_file_pickle.close()",
      "execution_count": 82,
      "outputs": []
    },
    {
      "metadata": {
        "trusted": true
      },
      "cell_type": "code",
      "source": "clf_loaded",
      "execution_count": 83,
      "outputs": [
        {
          "output_type": "execute_result",
          "execution_count": 83,
          "data": {
            "text/plain": "GridSearchCV(cv=3, error_score='raise',\n       estimator=LogisticRegression(C=1.0, class_weight=None, dual=False, fit_intercept=True,\n          intercept_scaling=1, max_iter=100, multi_class='ovr', n_jobs=1,\n          penalty='l2', random_state=0, solver='liblinear', tol=0.0001,\n          verbose=0, warm_start=False),\n       fit_params=None, iid=True, n_jobs=1,\n       param_grid={'penalty': ['l1', 'l2'], 'C': [1.0, 10.0, 50.0, 100.0, 1000.0]},\n       pre_dispatch='2*n_jobs', refit=True, return_train_score='warn',\n       scoring=None, verbose=0)"
          },
          "metadata": {}
        }
      ]
    },
    {
      "metadata": {
        "trusted": true
      },
      "cell_type": "code",
      "source": "scaler_loaded",
      "execution_count": 84,
      "outputs": [
        {
          "output_type": "execute_result",
          "execution_count": 84,
          "data": {
            "text/plain": "StandardScaler(copy=True, with_mean=True, with_std=True)"
          },
          "metadata": {}
        }
      ]
    },
    {
      "metadata": {
        "trusted": true
      },
      "cell_type": "code",
      "source": "# transform the test data using loaded scaler object\n\nX_test_scaled=scaler_loaded.transform(X_test)\n\n#calculate the score using loaded model object\n\nprint 'score for persisited logistc regression : {0:.2f}'.format(clf_loaded.score(X_test_scaled, y_test))\n\nprint 'score for persisited logistc regression non scaled: {0:.2f}'.format(clf_loaded.score(X_test, y_test))\n\n# so this perticular problem does not work well when using a scaled data set\n\n# also we can see that we saved the whole model and no need to retrain the model\n\n# we are just sending it the test data sets, and no train data set\n\n# this is persisted model, a model which is alread learnt and does not require training",
      "execution_count": 87,
      "outputs": [
        {
          "output_type": "stream",
          "text": "score for persisited logistc regression : 0.68\nscore for persisited logistc regression non scaled: 0.81\n",
          "name": "stdout"
        }
      ]
    },
    {
      "metadata": {
        "trusted": true
      },
      "cell_type": "code",
      "source": "",
      "execution_count": null,
      "outputs": []
    },
    {
      "metadata": {
        "trusted": true
      },
      "cell_type": "code",
      "source": "",
      "execution_count": null,
      "outputs": []
    },
    {
      "metadata": {
        "trusted": true
      },
      "cell_type": "code",
      "source": "",
      "execution_count": null,
      "outputs": []
    }
  ],
  "metadata": {
    "kernelspec": {
      "name": "python2",
      "display_name": "Python 2",
      "language": "python"
    },
    "language_info": {
      "mimetype": "text/x-python",
      "nbconvert_exporter": "python",
      "name": "python",
      "pygments_lexer": "ipython2",
      "version": "2.7.15",
      "file_extension": ".py",
      "codemirror_mode": {
        "version": 2,
        "name": "ipython"
      }
    }
  },
  "nbformat": 4,
  "nbformat_minor": 2
}